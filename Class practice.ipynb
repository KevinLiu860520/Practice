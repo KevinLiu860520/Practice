{
 "cells": [
  {
   "cell_type": "markdown",
   "metadata": {},
   "source": [
    "# Rookie"
   ]
  },
  {
   "cell_type": "markdown",
   "metadata": {},
   "source": [
    "## First version"
   ]
  },
  {
   "cell_type": "code",
   "execution_count": 38,
   "metadata": {
    "ExecuteTime": {
     "end_time": "2021-08-11T10:00:18.774872Z",
     "start_time": "2021-08-11T10:00:18.758873Z"
    }
   },
   "outputs": [
    {
     "name": "stdout",
     "output_type": "stream",
     "text": [
      "10\n",
      "dog\n"
     ]
    }
   ],
   "source": [
    "class Animal:\n",
    "    def __init__(self,Type,age,color): ## 起始參數\n",
    "        self.Type = Type\n",
    "        self.age = age\n",
    "        self.color = color\n",
    "    def who(self): # class都要加個self\n",
    "        return self.Type\n",
    "dog = Animal('dog',10,'blue')\n",
    "print(dog.age)\n",
    "print(dog.who())"
   ]
  },
  {
   "cell_type": "code",
   "execution_count": 31,
   "metadata": {
    "ExecuteTime": {
     "end_time": "2021-08-11T09:54:10.526222Z",
     "start_time": "2021-08-11T09:54:10.511219Z"
    }
   },
   "outputs": [
    {
     "name": "stdout",
     "output_type": "stream",
     "text": [
      "70\n"
     ]
    }
   ],
   "source": [
    "class Account:\n",
    "    def __init__(self, number, name):\n",
    "        self.number = number\n",
    "        self.name = name\n",
    "        self.balance = 0\n",
    "        \n",
    "    def deposit(self, amount):  #存款動作: amount代表存入金額\n",
    "        if amount <= 0:\n",
    "            raise ValueError('must be positive')\n",
    "        self.balance += amount\n",
    "        \n",
    "    def withdraw(self, amount): #取款動作: amount代表取款金額\n",
    "        if amount <= self.balance:\n",
    "            self.balance -= amount\n",
    "        else:\n",
    "            raise RuntimeError('balance not enough')\n",
    "            \n",
    "acct1 = Account('123–456–789', 'Justin') #開一個帳戶\n",
    "acct1.deposit(100)\n",
    "acct1.withdraw(30)\n",
    "print(acct1.balance) #餘額是 70"
   ]
  },
  {
   "cell_type": "markdown",
   "metadata": {},
   "source": [
    "## Second version"
   ]
  },
  {
   "cell_type": "code",
   "execution_count": 40,
   "metadata": {
    "ExecuteTime": {
     "end_time": "2021-08-11T10:01:28.014557Z",
     "start_time": "2021-08-11T10:01:27.995943Z"
    }
   },
   "outputs": [
    {
     "name": "stdout",
     "output_type": "stream",
     "text": [
      "blue\n",
      "5\n",
      "My car is blue and 5 seats.\n"
     ]
    }
   ],
   "source": [
    "# 汽車類別 (class)\n",
    "class Cars:\n",
    "    # 建構式 (constructor)\n",
    "    def __init__(self, color, seat):\n",
    "        self.color = color  # 顏色屬性 (attribute)\n",
    "        self.seat = seat  # 座位屬性\n",
    "        \n",
    "    # 方法(Method)\n",
    "    def drive(self):\n",
    "        print(f\"My car is {self.color} and {self.seat} seats.\")\n",
    "        \n",
    "mazda = Cars('blue',5) # 物件 (object)，裡面的value是屬性\n",
    "print(mazda.color)\n",
    "print(mazda.seat)\n",
    "mazda.drive()"
   ]
  },
  {
   "cell_type": "code",
   "execution_count": 41,
   "metadata": {
    "ExecuteTime": {
     "end_time": "2021-08-11T10:02:08.297401Z",
     "start_time": "2021-08-11T10:02:08.281403Z"
    }
   },
   "outputs": [
    {
     "name": "stdout",
     "output_type": "stream",
     "text": [
      "True\n",
      "False\n"
     ]
    }
   ],
   "source": [
    "# 汽車類別\n",
    "class Cars:\n",
    "    pass\n",
    "# 摩托車類別\n",
    "class Motorcycle:\n",
    "    pass\n",
    "# 建立Cars類別的物件\n",
    "mazda = Cars()\n",
    "\n",
    "# isinstance()來判斷類別(Class)與物件(Object)的關係\n",
    "print(isinstance(mazda, Cars))  # 執行結果：True\n",
    "print(isinstance(mazda, Motorcycle))  # 執行結果：False"
   ]
  },
  {
   "cell_type": "markdown",
   "metadata": {},
   "source": [
    "# Advanced"
   ]
  },
  {
   "cell_type": "markdown",
   "metadata": {},
   "source": [
    "## 繼承 (inherit)"
   ]
  },
  {
   "cell_type": "code",
   "execution_count": 51,
   "metadata": {
    "ExecuteTime": {
     "end_time": "2021-08-11T10:21:05.467182Z",
     "start_time": "2021-08-11T10:21:05.450180Z"
    }
   },
   "outputs": [
    {
     "name": "stdout",
     "output_type": "stream",
     "text": [
      "我是英勇的阿古斯\n",
      "None\n",
      "龍族: 泡泡龍\n",
      "None\n"
     ]
    }
   ],
   "source": [
    "class Charactor():\n",
    "    def __init__(self, name):\n",
    "        self.name = name\n",
    "\n",
    "class Person(Charactor):\n",
    "    def __init__(self, name, personality):\n",
    "        super().__init__(name)\n",
    "        self.personality = personality\n",
    "    def show(self):\n",
    "        print(\"我是\"+self.personality+\"的\"+self.name)\n",
    "\n",
    "class Monster(Charactor):\n",
    "    def __init__(self, name, race):\n",
    "        super().__init__(name)\n",
    "        self.race = race\n",
    "    def show(self):\n",
    "        print(self.race+\": \"+self.name)\n",
    "\n",
    "if __name__ == '__main__':\n",
    "    p1 = Person(\"阿古斯\", \"英勇\")\n",
    "    print(p1.show())\n",
    "    m = Monster(\"泡泡龍\", \"龍族\")\n",
    "    print(m.show()) # print 會有None, return 不會有"
   ]
  },
  {
   "cell_type": "code",
   "execution_count": 49,
   "metadata": {
    "ExecuteTime": {
     "end_time": "2021-08-11T10:20:21.877050Z",
     "start_time": "2021-08-11T10:20:21.843048Z"
    }
   },
   "outputs": [
    {
     "name": "stdout",
     "output_type": "stream",
     "text": [
      "Name:Eason  Department:Civil Engineering  ID:9487943\n",
      "Skill:Statics_Programming (Python)\n"
     ]
    }
   ],
   "source": [
    "class student:\n",
    "    def __init__(self,name=None,gender=None,dep=None,ID=None):\n",
    "        self.name=name\n",
    "        self.gender=gender\n",
    "        self.dep=dep\n",
    "        self.ID=ID\n",
    "\n",
    "class Person(student):\n",
    "    def __init__(self, name, gender, dep, ID, pro_qua):\n",
    "        super().__init__(name, gender, dep, ID)\n",
    "        self.pro_qua=pro_qua\n",
    "        \n",
    "    def Profess(self):\n",
    "        General_Programming={'C','C++','C#','JAVA'}\n",
    "        Statics_Programming={'Python','R'}\n",
    "        Engineering_Programming={'Matlab','Fortran'}\n",
    "        \n",
    "        if self.pro_qua in General_Programming:\n",
    "            return'General_Programming'\n",
    "        elif self.pro_qua in  Statics_Programming:\n",
    "            return'Statics_Programming'\n",
    "        elif self.pro_qua in  Engineering_Programming:\n",
    "            return 'Engineering_Programming'\n",
    "        else:\n",
    "            return 'Offices'\n",
    "            \n",
    "if __name__=='__main__':\n",
    "    A=Person('Eason','Male','Civil Engineering','9487943','Python')\n",
    "    print('Name:{}  Department:{}  ID:{}'.format(A.name,A.dep,A.ID)) \n",
    "    print('Skill:{} ({})'.format(A.Profess(),A.pro_qua))\n",
    "\n",
    "#output:\n",
    "#Name:Eason     Department:Civil Engineering     ID:9487943\n",
    "#Skill:Statics_Programming (Python)"
   ]
  },
  {
   "cell_type": "markdown",
   "metadata": {},
   "source": [
    "## 多重繼承"
   ]
  },
  {
   "cell_type": "code",
   "execution_count": 56,
   "metadata": {
    "ExecuteTime": {
     "end_time": "2021-08-11T10:25:44.889868Z",
     "start_time": "2021-08-11T10:25:44.839865Z"
    }
   },
   "outputs": [
    {
     "name": "stdout",
     "output_type": "stream",
     "text": [
      "Name:Eason  Gender:Male   Department:Civil Engineering     ID:9487943\n",
      "Rank:B (Initial Score:78.2)\n"
     ]
    }
   ],
   "source": [
    "from functools import reduce\n",
    "class student:\n",
    "    def __init__(self,name='Jack',gender='F',dep=\"IT\",ID='9453',pro='Python'):\n",
    "        self.name=name\n",
    "        self.gender=gender\n",
    "        self.dep=dep\n",
    "        self.ID=ID\n",
    "        self.pro=pro\n",
    "        \n",
    "    @property\n",
    "    def gender(self):\n",
    "        return self._gender\n",
    "        \n",
    "    @gender.setter\n",
    "    def gender(self,gender):\n",
    "        if gender=='F':\n",
    "            self._gender='Female'\n",
    "        elif gender=='M':\n",
    "            self._gender='Male'\n",
    "        else:\n",
    "            raise TypeError('gender need F/M.')\n",
    "        return \n",
    "       \n",
    "\n",
    "class final_grade:\n",
    "    def __init__(self,we=[1,2,3],score=[1,2,3]):\n",
    "        self.we=we\n",
    "        self.score=score\n",
    "\n",
    "    def calculate(self):\n",
    "        weights=self.we\n",
    "        scores=self.score\n",
    "        ra=reduce(lambda a,b:a+b,map(lambda x,y:x*y,scores,weights))\n",
    "        return ra\n",
    "\n",
    "\n",
    "class Person(student,final_grade):\n",
    "    def __init__(self, name, gender, dep, ID, we,score,bonus=0):\n",
    "        student.__init__(self, name, gender, dep, ID)\n",
    "        final_grade.__init__(self, we,score)\n",
    "        self.bonus=bonus\n",
    "\n",
    "    def total(self):\n",
    "        tot=self.bonus+self.calculate()\n",
    "        return tot\n",
    "\n",
    "    def rank(self):\n",
    "        total1=self.total()\n",
    "        if total1>=90: return 'A+'\n",
    "        elif total1>=80 and total1<90: return 'A'\n",
    "        elif total1>=70 and total1<80: return 'B'\n",
    "        elif total1>=60 and total1<70: return 'C'\n",
    "        else: return 'F'\n",
    "\n",
    "\n",
    "# Main Function :\n",
    "\n",
    "w=[0.25,0.35,0.4]\n",
    "sc=[80,60,88]\n",
    "A=Person('Eason','M','Civil Engineering','9487943',w,sc,2)\n",
    "print('Name:{}  Gender:{}   Department:{}     ID:{}'.format(A.name,A.gender,A.dep,A.ID)) \n",
    "print('Rank:{} (Initial Score:{})'.format(A.rank(),A.total()))"
   ]
  }
 ],
 "metadata": {
  "hide_input": false,
  "kernelspec": {
   "display_name": "Python 3",
   "language": "python",
   "name": "python3"
  },
  "language_info": {
   "codemirror_mode": {
    "name": "ipython",
    "version": 3
   },
   "file_extension": ".py",
   "mimetype": "text/x-python",
   "name": "python",
   "nbconvert_exporter": "python",
   "pygments_lexer": "ipython3",
   "version": "3.8.5"
  },
  "toc": {
   "base_numbering": 1,
   "nav_menu": {},
   "number_sections": true,
   "sideBar": true,
   "skip_h1_title": false,
   "title_cell": "Table of Contents",
   "title_sidebar": "Contents",
   "toc_cell": false,
   "toc_position": {},
   "toc_section_display": true,
   "toc_window_display": true
  },
  "varInspector": {
   "cols": {
    "lenName": 16,
    "lenType": 16,
    "lenVar": 40
   },
   "kernels_config": {
    "python": {
     "delete_cmd_postfix": "",
     "delete_cmd_prefix": "del ",
     "library": "var_list.py",
     "varRefreshCmd": "print(var_dic_list())"
    },
    "r": {
     "delete_cmd_postfix": ") ",
     "delete_cmd_prefix": "rm(",
     "library": "var_list.r",
     "varRefreshCmd": "cat(var_dic_list()) "
    }
   },
   "types_to_exclude": [
    "module",
    "function",
    "builtin_function_or_method",
    "instance",
    "_Feature"
   ],
   "window_display": false
  }
 },
 "nbformat": 4,
 "nbformat_minor": 4
}
