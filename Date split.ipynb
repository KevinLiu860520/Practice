{
 "cells": [
  {
   "cell_type": "code",
   "execution_count": 1,
   "metadata": {
    "ExecuteTime": {
     "end_time": "2021-08-10T00:00:38.600701Z",
     "start_time": "2021-08-09T23:59:34.430870Z"
    }
   },
   "outputs": [],
   "source": [
    "import pandas as pd\n",
    "data = pd.read_excel('C:/Users/user/Desktop/joan/RGV030.xlsx').iloc[:1000]"
   ]
  },
  {
   "cell_type": "code",
   "execution_count": 8,
   "metadata": {
    "ExecuteTime": {
     "end_time": "2021-08-09T14:28:07.205423Z",
     "start_time": "2021-08-09T14:28:07.186419Z"
    }
   },
   "outputs": [
    {
     "data": {
      "text/plain": [
       "0     2020-11-19 23:58:14\n",
       "1     2020-11-19 23:59:28\n",
       "2     2020-11-20 00:00:36\n",
       "3     2020-11-20 00:01:57\n",
       "4     2020-11-20 00:07:04\n",
       "              ...        \n",
       "995   2020-11-20 23:33:56\n",
       "996   2020-11-20 23:34:15\n",
       "997   2020-11-20 23:43:20\n",
       "998   2020-11-20 23:44:08\n",
       "999   2020-11-20 23:45:02\n",
       "Name: MICRO_RECEIVED_TIME, Length: 1000, dtype: datetime64[ns]"
      ]
     },
     "execution_count": 8,
     "metadata": {},
     "output_type": "execute_result"
    }
   ],
   "source": [
    "# 原始資料\n",
    "data['MICRO_RECEIVED_TIME']"
   ]
  },
  {
   "cell_type": "code",
   "execution_count": 16,
   "metadata": {
    "ExecuteTime": {
     "end_time": "2021-08-09T14:32:54.460978Z",
     "start_time": "2021-08-09T14:32:54.431643Z"
    }
   },
   "outputs": [
    {
     "data": {
      "text/plain": [
       "0     2020-11-19\n",
       "1     2020-11-19\n",
       "2     2020-11-20\n",
       "3     2020-11-20\n",
       "4     2020-11-20\n",
       "         ...    \n",
       "995   2020-11-20\n",
       "996   2020-11-20\n",
       "997   2020-11-20\n",
       "998   2020-11-20\n",
       "999   2020-11-20\n",
       "Name: MICRO_RECEIVED_TIME, Length: 1000, dtype: datetime64[ns]"
      ]
     },
     "execution_count": 16,
     "metadata": {},
     "output_type": "execute_result"
    }
   ],
   "source": [
    "# 轉天\n",
    "data['MICRO_RECEIVED_TIME'].dt.floor('D')"
   ]
  },
  {
   "cell_type": "code",
   "execution_count": 19,
   "metadata": {
    "ExecuteTime": {
     "end_time": "2021-08-09T14:33:56.300552Z",
     "start_time": "2021-08-09T14:33:56.278551Z"
    }
   },
   "outputs": [
    {
     "data": {
      "text/plain": [
       "0     2020-11-19 23:00:00\n",
       "1     2020-11-19 23:00:00\n",
       "2     2020-11-20 00:00:00\n",
       "3     2020-11-20 00:00:00\n",
       "4     2020-11-20 00:00:00\n",
       "              ...        \n",
       "995   2020-11-20 23:00:00\n",
       "996   2020-11-20 23:00:00\n",
       "997   2020-11-20 23:00:00\n",
       "998   2020-11-20 23:00:00\n",
       "999   2020-11-20 23:00:00\n",
       "Name: MICRO_RECEIVED_TIME, Length: 1000, dtype: datetime64[ns]"
      ]
     },
     "execution_count": 19,
     "metadata": {},
     "output_type": "execute_result"
    }
   ],
   "source": [
    "# 轉小時 前面加數字表示每幾小時為單位\n",
    "data['MICRO_RECEIVED_TIME'].dt.floor('H')"
   ]
  },
  {
   "cell_type": "code",
   "execution_count": 26,
   "metadata": {
    "ExecuteTime": {
     "end_time": "2021-08-09T14:43:25.523353Z",
     "start_time": "2021-08-09T14:43:25.504352Z"
    }
   },
   "outputs": [
    {
     "data": {
      "text/plain": [
       "0     2020-11-19 23:50:00\n",
       "1     2020-11-19 23:50:00\n",
       "2     2020-11-20 00:00:00\n",
       "3     2020-11-20 00:00:00\n",
       "4     2020-11-20 00:00:00\n",
       "              ...        \n",
       "995   2020-11-20 23:30:00\n",
       "996   2020-11-20 23:30:00\n",
       "997   2020-11-20 23:40:00\n",
       "998   2020-11-20 23:40:00\n",
       "999   2020-11-20 23:40:00\n",
       "Name: MICRO_RECEIVED_TIME, Length: 1000, dtype: datetime64[ns]"
      ]
     },
     "execution_count": 26,
     "metadata": {},
     "output_type": "execute_result"
    }
   ],
   "source": [
    "# 轉分鐘\n",
    "data['MICRO_RECEIVED_TIME'].dt.floor('10T')"
   ]
  },
  {
   "cell_type": "code",
   "execution_count": 20,
   "metadata": {
    "ExecuteTime": {
     "end_time": "2021-08-09T14:34:01.852583Z",
     "start_time": "2021-08-09T14:34:01.825585Z"
    }
   },
   "outputs": [
    {
     "data": {
      "text/plain": [
       "0     2020-11-19 23:58:00\n",
       "1     2020-11-19 23:59:00\n",
       "2     2020-11-20 00:00:30\n",
       "3     2020-11-20 00:01:30\n",
       "4     2020-11-20 00:07:00\n",
       "              ...        \n",
       "995   2020-11-20 23:33:30\n",
       "996   2020-11-20 23:34:00\n",
       "997   2020-11-20 23:43:00\n",
       "998   2020-11-20 23:44:00\n",
       "999   2020-11-20 23:45:00\n",
       "Name: MICRO_RECEIVED_TIME, Length: 1000, dtype: datetime64[ns]"
      ]
     },
     "execution_count": 20,
     "metadata": {},
     "output_type": "execute_result"
    }
   ],
   "source": [
    "# 轉秒\n",
    "data['MICRO_RECEIVED_TIME'].dt.floor('30S')"
   ]
  },
  {
   "cell_type": "code",
   "execution_count": 24,
   "metadata": {
    "ExecuteTime": {
     "end_time": "2021-08-09T14:41:54.134436Z",
     "start_time": "2021-08-09T14:41:54.114507Z"
    },
    "scrolled": true
   },
   "outputs": [
    {
     "data": {
      "text/plain": [
       "Hour\n",
       "2020-11-19 23:00:00     190.0\n",
       "2020-11-20 00:00:00    2732.0\n",
       "2020-11-20 01:00:00    3394.0\n",
       "2020-11-20 02:00:00    2967.0\n",
       "2020-11-20 03:00:00    3734.0\n",
       "2020-11-20 04:00:00    3186.0\n",
       "2020-11-20 05:00:00    3344.0\n",
       "2020-11-20 06:00:00    2786.0\n",
       "2020-11-20 07:00:00    3150.0\n",
       "2020-11-20 08:00:00    3930.0\n",
       "2020-11-20 09:00:00    3039.0\n",
       "2020-11-20 10:00:00    3224.0\n",
       "2020-11-20 11:00:00    1933.0\n",
       "2020-11-20 12:00:00    2913.0\n",
       "2020-11-20 13:00:00    2706.0\n",
       "2020-11-20 14:00:00    3815.0\n",
       "2020-11-20 15:00:00    2688.0\n",
       "2020-11-20 16:00:00    3242.0\n",
       "2020-11-20 17:00:00    3118.0\n",
       "2020-11-20 18:00:00    3523.0\n",
       "2020-11-20 19:00:00    3579.0\n",
       "2020-11-20 20:00:00    2747.0\n",
       "2020-11-20 21:00:00    3050.0\n",
       "2020-11-20 22:00:00    2320.0\n",
       "2020-11-20 23:00:00    1984.0\n",
       "Name: FROM_TO_NUMBER_RGV030, dtype: float64"
      ]
     },
     "execution_count": 24,
     "metadata": {},
     "output_type": "execute_result"
    }
   ],
   "source": [
    "# 基本運算\n",
    "data['Hour'] = data['MICRO_RECEIVED_TIME'].dt.floor('H')\n",
    "data.groupby('Hour')['FROM_TO_NUMBER_RGV030'].sum()"
   ]
  },
  {
   "cell_type": "code",
   "execution_count": 48,
   "metadata": {
    "ExecuteTime": {
     "end_time": "2021-08-10T00:25:24.272264Z",
     "start_time": "2021-08-10T00:25:24.223256Z"
    },
    "scrolled": true
   },
   "outputs": [
    {
     "data": {
      "text/html": [
       "<div>\n",
       "<style scoped>\n",
       "    .dataframe tbody tr th:only-of-type {\n",
       "        vertical-align: middle;\n",
       "    }\n",
       "\n",
       "    .dataframe tbody tr th {\n",
       "        vertical-align: top;\n",
       "    }\n",
       "\n",
       "    .dataframe thead th {\n",
       "        text-align: right;\n",
       "    }\n",
       "</style>\n",
       "<table border=\"1\" class=\"dataframe\">\n",
       "  <thead>\n",
       "    <tr style=\"text-align: right;\">\n",
       "      <th></th>\n",
       "      <th></th>\n",
       "      <th>timestamp</th>\n",
       "    </tr>\n",
       "  </thead>\n",
       "  <tbody>\n",
       "    <tr>\n",
       "      <th>0</th>\n",
       "      <th>2018-10-05</th>\n",
       "      <td>23:07:02</td>\n",
       "    </tr>\n",
       "    <tr>\n",
       "      <th>1</th>\n",
       "      <th>2018-10-05</th>\n",
       "      <td>23:07:13</td>\n",
       "    </tr>\n",
       "    <tr>\n",
       "      <th>2</th>\n",
       "      <th>2018-10-05</th>\n",
       "      <td>23:07:23</td>\n",
       "    </tr>\n",
       "    <tr>\n",
       "      <th>3</th>\n",
       "      <th>2018-10-05</th>\n",
       "      <td>23:07:36</td>\n",
       "    </tr>\n",
       "    <tr>\n",
       "      <th>4</th>\n",
       "      <th>2018-10-05</th>\n",
       "      <td>23:08:02</td>\n",
       "    </tr>\n",
       "    <tr>\n",
       "      <th>5</th>\n",
       "      <th>2018-10-05</th>\n",
       "      <td>23:09:16</td>\n",
       "    </tr>\n",
       "    <tr>\n",
       "      <th>6</th>\n",
       "      <th>2018-10-05</th>\n",
       "      <td>23:09:21</td>\n",
       "    </tr>\n",
       "    <tr>\n",
       "      <th>7</th>\n",
       "      <th>2018-10-05</th>\n",
       "      <td>23:09:39</td>\n",
       "    </tr>\n",
       "    <tr>\n",
       "      <th>8</th>\n",
       "      <th>2018-10-05</th>\n",
       "      <td>23:09:47</td>\n",
       "    </tr>\n",
       "    <tr>\n",
       "      <th>9</th>\n",
       "      <th>2018-10-05</th>\n",
       "      <td>23:10:01</td>\n",
       "    </tr>\n",
       "    <tr>\n",
       "      <th>10</th>\n",
       "      <th>2018-10-05</th>\n",
       "      <td>23:10:11</td>\n",
       "    </tr>\n",
       "    <tr>\n",
       "      <th>11</th>\n",
       "      <th>2018-10-05</th>\n",
       "      <td>23:10:23</td>\n",
       "    </tr>\n",
       "    <tr>\n",
       "      <th>12</th>\n",
       "      <th>2018-10-05</th>\n",
       "      <td>23:10:59</td>\n",
       "    </tr>\n",
       "    <tr>\n",
       "      <th>13</th>\n",
       "      <th>2018-10-05</th>\n",
       "      <td>23:11:03</td>\n",
       "    </tr>\n",
       "    <tr>\n",
       "      <th>14</th>\n",
       "      <th>2018-10-08</th>\n",
       "      <td>03:35:32</td>\n",
       "    </tr>\n",
       "    <tr>\n",
       "      <th>15</th>\n",
       "      <th>2018-10-08</th>\n",
       "      <td>03:35:58</td>\n",
       "    </tr>\n",
       "    <tr>\n",
       "      <th>16</th>\n",
       "      <th>2018-10-08</th>\n",
       "      <td>03:37:16</td>\n",
       "    </tr>\n",
       "    <tr>\n",
       "      <th>17</th>\n",
       "      <th>2018-10-08</th>\n",
       "      <td>03:38:04</td>\n",
       "    </tr>\n",
       "    <tr>\n",
       "      <th>18</th>\n",
       "      <th>2018-10-08</th>\n",
       "      <td>03:38:30</td>\n",
       "    </tr>\n",
       "    <tr>\n",
       "      <th>19</th>\n",
       "      <th>2018-10-08</th>\n",
       "      <td>03:38:36</td>\n",
       "    </tr>\n",
       "    <tr>\n",
       "      <th>20</th>\n",
       "      <th>2018-10-08</th>\n",
       "      <td>03:38:42</td>\n",
       "    </tr>\n",
       "    <tr>\n",
       "      <th>21</th>\n",
       "      <th>2018-10-08</th>\n",
       "      <td>03:38:52</td>\n",
       "    </tr>\n",
       "    <tr>\n",
       "      <th>22</th>\n",
       "      <th>2018-10-08</th>\n",
       "      <td>03:38:57</td>\n",
       "    </tr>\n",
       "    <tr>\n",
       "      <th>23</th>\n",
       "      <th>2018-10-08</th>\n",
       "      <td>03:39:10</td>\n",
       "    </tr>\n",
       "    <tr>\n",
       "      <th>24</th>\n",
       "      <th>2018-10-08</th>\n",
       "      <td>03:39:27</td>\n",
       "    </tr>\n",
       "    <tr>\n",
       "      <th>25</th>\n",
       "      <th>2018-10-08</th>\n",
       "      <td>03:40:47</td>\n",
       "    </tr>\n",
       "    <tr>\n",
       "      <th>26</th>\n",
       "      <th>2018-10-08</th>\n",
       "      <td>03:40:54</td>\n",
       "    </tr>\n",
       "    <tr>\n",
       "      <th>27</th>\n",
       "      <th>2018-10-08</th>\n",
       "      <td>03:41:02</td>\n",
       "    </tr>\n",
       "    <tr>\n",
       "      <th>28</th>\n",
       "      <th>2018-10-08</th>\n",
       "      <td>03:41:12</td>\n",
       "    </tr>\n",
       "    <tr>\n",
       "      <th>29</th>\n",
       "      <th>2018-10-08</th>\n",
       "      <td>03:41:32</td>\n",
       "    </tr>\n",
       "  </tbody>\n",
       "</table>\n",
       "</div>"
      ],
      "text/plain": [
       "              timestamp\n",
       "0  2018-10-05  23:07:02\n",
       "1  2018-10-05  23:07:13\n",
       "2  2018-10-05  23:07:23\n",
       "3  2018-10-05  23:07:36\n",
       "4  2018-10-05  23:08:02\n",
       "5  2018-10-05  23:09:16\n",
       "6  2018-10-05  23:09:21\n",
       "7  2018-10-05  23:09:39\n",
       "8  2018-10-05  23:09:47\n",
       "9  2018-10-05  23:10:01\n",
       "10 2018-10-05  23:10:11\n",
       "11 2018-10-05  23:10:23\n",
       "12 2018-10-05  23:10:59\n",
       "13 2018-10-05  23:11:03\n",
       "14 2018-10-08  03:35:32\n",
       "15 2018-10-08  03:35:58\n",
       "16 2018-10-08  03:37:16\n",
       "17 2018-10-08  03:38:04\n",
       "18 2018-10-08  03:38:30\n",
       "19 2018-10-08  03:38:36\n",
       "20 2018-10-08  03:38:42\n",
       "21 2018-10-08  03:38:52\n",
       "22 2018-10-08  03:38:57\n",
       "23 2018-10-08  03:39:10\n",
       "24 2018-10-08  03:39:27\n",
       "25 2018-10-08  03:40:47\n",
       "26 2018-10-08  03:40:54\n",
       "27 2018-10-08  03:41:02\n",
       "28 2018-10-08  03:41:12\n",
       "29 2018-10-08  03:41:32"
      ]
     },
     "execution_count": 48,
     "metadata": {},
     "output_type": "execute_result"
    }
   ],
   "source": [
    "example = pd.read_clipboard()\n",
    "example"
   ]
  },
  {
   "cell_type": "code",
   "execution_count": 49,
   "metadata": {
    "ExecuteTime": {
     "end_time": "2021-08-10T00:25:26.575891Z",
     "start_time": "2021-08-10T00:25:26.529887Z"
    },
    "scrolled": true
   },
   "outputs": [
    {
     "data": {
      "text/html": [
       "<div>\n",
       "<style scoped>\n",
       "    .dataframe tbody tr th:only-of-type {\n",
       "        vertical-align: middle;\n",
       "    }\n",
       "\n",
       "    .dataframe tbody tr th {\n",
       "        vertical-align: top;\n",
       "    }\n",
       "\n",
       "    .dataframe thead th {\n",
       "        text-align: right;\n",
       "    }\n",
       "</style>\n",
       "<table border=\"1\" class=\"dataframe\">\n",
       "  <thead>\n",
       "    <tr style=\"text-align: right;\">\n",
       "      <th></th>\n",
       "      <th>timestamp</th>\n",
       "      <th>10min_period</th>\n",
       "    </tr>\n",
       "  </thead>\n",
       "  <tbody>\n",
       "    <tr>\n",
       "      <th>2018-10-05</th>\n",
       "      <td>2018-10-05</td>\n",
       "      <td>period_1</td>\n",
       "    </tr>\n",
       "    <tr>\n",
       "      <th>2018-10-05</th>\n",
       "      <td>2018-10-05</td>\n",
       "      <td>period_1</td>\n",
       "    </tr>\n",
       "    <tr>\n",
       "      <th>2018-10-05</th>\n",
       "      <td>2018-10-05</td>\n",
       "      <td>period_1</td>\n",
       "    </tr>\n",
       "    <tr>\n",
       "      <th>2018-10-05</th>\n",
       "      <td>2018-10-05</td>\n",
       "      <td>period_1</td>\n",
       "    </tr>\n",
       "    <tr>\n",
       "      <th>2018-10-05</th>\n",
       "      <td>2018-10-05</td>\n",
       "      <td>period_1</td>\n",
       "    </tr>\n",
       "    <tr>\n",
       "      <th>2018-10-05</th>\n",
       "      <td>2018-10-05</td>\n",
       "      <td>period_1</td>\n",
       "    </tr>\n",
       "    <tr>\n",
       "      <th>2018-10-05</th>\n",
       "      <td>2018-10-05</td>\n",
       "      <td>period_1</td>\n",
       "    </tr>\n",
       "    <tr>\n",
       "      <th>2018-10-05</th>\n",
       "      <td>2018-10-05</td>\n",
       "      <td>period_1</td>\n",
       "    </tr>\n",
       "    <tr>\n",
       "      <th>2018-10-05</th>\n",
       "      <td>2018-10-05</td>\n",
       "      <td>period_1</td>\n",
       "    </tr>\n",
       "    <tr>\n",
       "      <th>2018-10-05</th>\n",
       "      <td>2018-10-05</td>\n",
       "      <td>period_1</td>\n",
       "    </tr>\n",
       "    <tr>\n",
       "      <th>2018-10-05</th>\n",
       "      <td>2018-10-05</td>\n",
       "      <td>period_1</td>\n",
       "    </tr>\n",
       "    <tr>\n",
       "      <th>2018-10-05</th>\n",
       "      <td>2018-10-05</td>\n",
       "      <td>period_1</td>\n",
       "    </tr>\n",
       "    <tr>\n",
       "      <th>2018-10-05</th>\n",
       "      <td>2018-10-05</td>\n",
       "      <td>period_1</td>\n",
       "    </tr>\n",
       "    <tr>\n",
       "      <th>2018-10-05</th>\n",
       "      <td>2018-10-05</td>\n",
       "      <td>period_1</td>\n",
       "    </tr>\n",
       "    <tr>\n",
       "      <th>2018-10-08</th>\n",
       "      <td>2018-10-08</td>\n",
       "      <td>period_2</td>\n",
       "    </tr>\n",
       "    <tr>\n",
       "      <th>2018-10-08</th>\n",
       "      <td>2018-10-08</td>\n",
       "      <td>period_2</td>\n",
       "    </tr>\n",
       "    <tr>\n",
       "      <th>2018-10-08</th>\n",
       "      <td>2018-10-08</td>\n",
       "      <td>period_2</td>\n",
       "    </tr>\n",
       "    <tr>\n",
       "      <th>2018-10-08</th>\n",
       "      <td>2018-10-08</td>\n",
       "      <td>period_2</td>\n",
       "    </tr>\n",
       "    <tr>\n",
       "      <th>2018-10-08</th>\n",
       "      <td>2018-10-08</td>\n",
       "      <td>period_2</td>\n",
       "    </tr>\n",
       "    <tr>\n",
       "      <th>2018-10-08</th>\n",
       "      <td>2018-10-08</td>\n",
       "      <td>period_2</td>\n",
       "    </tr>\n",
       "    <tr>\n",
       "      <th>2018-10-08</th>\n",
       "      <td>2018-10-08</td>\n",
       "      <td>period_2</td>\n",
       "    </tr>\n",
       "    <tr>\n",
       "      <th>2018-10-08</th>\n",
       "      <td>2018-10-08</td>\n",
       "      <td>period_2</td>\n",
       "    </tr>\n",
       "    <tr>\n",
       "      <th>2018-10-08</th>\n",
       "      <td>2018-10-08</td>\n",
       "      <td>period_2</td>\n",
       "    </tr>\n",
       "    <tr>\n",
       "      <th>2018-10-08</th>\n",
       "      <td>2018-10-08</td>\n",
       "      <td>period_2</td>\n",
       "    </tr>\n",
       "    <tr>\n",
       "      <th>2018-10-08</th>\n",
       "      <td>2018-10-08</td>\n",
       "      <td>period_2</td>\n",
       "    </tr>\n",
       "    <tr>\n",
       "      <th>2018-10-08</th>\n",
       "      <td>2018-10-08</td>\n",
       "      <td>period_2</td>\n",
       "    </tr>\n",
       "    <tr>\n",
       "      <th>2018-10-08</th>\n",
       "      <td>2018-10-08</td>\n",
       "      <td>period_2</td>\n",
       "    </tr>\n",
       "    <tr>\n",
       "      <th>2018-10-08</th>\n",
       "      <td>2018-10-08</td>\n",
       "      <td>period_2</td>\n",
       "    </tr>\n",
       "    <tr>\n",
       "      <th>2018-10-08</th>\n",
       "      <td>2018-10-08</td>\n",
       "      <td>period_2</td>\n",
       "    </tr>\n",
       "    <tr>\n",
       "      <th>2018-10-08</th>\n",
       "      <td>2018-10-08</td>\n",
       "      <td>period_2</td>\n",
       "    </tr>\n",
       "  </tbody>\n",
       "</table>\n",
       "</div>"
      ],
      "text/plain": [
       "            timestamp 10min_period\n",
       "2018-10-05 2018-10-05     period_1\n",
       "2018-10-05 2018-10-05     period_1\n",
       "2018-10-05 2018-10-05     period_1\n",
       "2018-10-05 2018-10-05     period_1\n",
       "2018-10-05 2018-10-05     period_1\n",
       "2018-10-05 2018-10-05     period_1\n",
       "2018-10-05 2018-10-05     period_1\n",
       "2018-10-05 2018-10-05     period_1\n",
       "2018-10-05 2018-10-05     period_1\n",
       "2018-10-05 2018-10-05     period_1\n",
       "2018-10-05 2018-10-05     period_1\n",
       "2018-10-05 2018-10-05     period_1\n",
       "2018-10-05 2018-10-05     period_1\n",
       "2018-10-05 2018-10-05     period_1\n",
       "2018-10-08 2018-10-08     period_2\n",
       "2018-10-08 2018-10-08     period_2\n",
       "2018-10-08 2018-10-08     period_2\n",
       "2018-10-08 2018-10-08     period_2\n",
       "2018-10-08 2018-10-08     period_2\n",
       "2018-10-08 2018-10-08     period_2\n",
       "2018-10-08 2018-10-08     period_2\n",
       "2018-10-08 2018-10-08     period_2\n",
       "2018-10-08 2018-10-08     period_2\n",
       "2018-10-08 2018-10-08     period_2\n",
       "2018-10-08 2018-10-08     period_2\n",
       "2018-10-08 2018-10-08     period_2\n",
       "2018-10-08 2018-10-08     period_2\n",
       "2018-10-08 2018-10-08     period_2\n",
       "2018-10-08 2018-10-08     period_2\n",
       "2018-10-08 2018-10-08     period_2"
      ]
     },
     "execution_count": 49,
     "metadata": {},
     "output_type": "execute_result"
    }
   ],
   "source": [
    "example['timestamp'] =  example.index.get_level_values(1)\n",
    "example['timestamp'] = pd.to_datetime(example['timestamp'])\n",
    "example = example.droplevel(0,axis = 0)\n",
    "diffs = example['timestamp'] - example['timestamp'].shift()\n",
    "laps = diffs > pd.Timedelta('10 min')\n",
    "periods = laps.cumsum().apply(lambda x: 'period_{}'.format(x+1))\n",
    "example['10min_period'] = periods\n",
    "example"
   ]
  }
 ],
 "metadata": {
  "hide_input": false,
  "kernelspec": {
   "display_name": "Python 3",
   "language": "python",
   "name": "python3"
  },
  "language_info": {
   "codemirror_mode": {
    "name": "ipython",
    "version": 3
   },
   "file_extension": ".py",
   "mimetype": "text/x-python",
   "name": "python",
   "nbconvert_exporter": "python",
   "pygments_lexer": "ipython3",
   "version": "3.8.5"
  },
  "toc": {
   "base_numbering": 1,
   "nav_menu": {},
   "number_sections": true,
   "sideBar": true,
   "skip_h1_title": false,
   "title_cell": "Table of Contents",
   "title_sidebar": "Contents",
   "toc_cell": false,
   "toc_position": {},
   "toc_section_display": true,
   "toc_window_display": false
  },
  "varInspector": {
   "cols": {
    "lenName": 16,
    "lenType": 16,
    "lenVar": 40
   },
   "kernels_config": {
    "python": {
     "delete_cmd_postfix": "",
     "delete_cmd_prefix": "del ",
     "library": "var_list.py",
     "varRefreshCmd": "print(var_dic_list())"
    },
    "r": {
     "delete_cmd_postfix": ") ",
     "delete_cmd_prefix": "rm(",
     "library": "var_list.r",
     "varRefreshCmd": "cat(var_dic_list()) "
    }
   },
   "types_to_exclude": [
    "module",
    "function",
    "builtin_function_or_method",
    "instance",
    "_Feature"
   ],
   "window_display": false
  }
 },
 "nbformat": 4,
 "nbformat_minor": 4
}
