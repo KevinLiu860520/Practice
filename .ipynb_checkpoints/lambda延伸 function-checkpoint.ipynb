{
 "cells": [
  {
   "cell_type": "markdown",
   "metadata": {},
   "source": [
    "# lambda"
   ]
  },
  {
   "cell_type": "code",
   "execution_count": 7,
   "metadata": {
    "ExecuteTime": {
     "end_time": "2021-08-20T08:38:20.554840Z",
     "start_time": "2021-08-20T08:38:20.543838Z"
    }
   },
   "outputs": [
    {
     "name": "stdout",
     "output_type": "stream",
     "text": [
      "10\n"
     ]
    }
   ],
   "source": [
    "multi = lambda x,y : x * y\n",
    "print(multi(2,5))"
   ]
  },
  {
   "cell_type": "markdown",
   "metadata": {},
   "source": [
    "# lambda with filter"
   ]
  },
  {
   "cell_type": "code",
   "execution_count": 19,
   "metadata": {
    "ExecuteTime": {
     "end_time": "2021-08-20T09:03:49.914541Z",
     "start_time": "2021-08-20T09:03:49.895538Z"
    }
   },
   "outputs": [
    {
     "name": "stdout",
     "output_type": "stream",
     "text": [
      "[1, 1, 7, 13, 19, 31]\n",
      "[13, 19, 31]\n"
     ]
    }
   ],
   "source": [
    "# 在可疊代的物件中，依據條件運算式，選擇特定的元素，把值取出來 (要有結果要加list)\n",
    "# filter(lambda parameter: expression, iterable)\n",
    "val=[0,1,2,1,4,7,8,14,13,19,31,50]\n",
    "fil_1=list(filter(lambda x: x%2 >0, val)) # %餘數\n",
    "fil_2=list(filter(lambda x: 2**x >1024,fil_1))\n",
    "\n",
    "print(fil_1) #output:[1, 1, 7, 13, 19, 31]\n",
    "print(fil_2) #output:[13, 19, 31]"
   ]
  },
  {
   "cell_type": "markdown",
   "metadata": {},
   "source": [
    "# lambda with reduce"
   ]
  },
  {
   "cell_type": "code",
   "execution_count": 10,
   "metadata": {
    "ExecuteTime": {
     "end_time": "2021-08-20T08:58:55.626233Z",
     "start_time": "2021-08-20T08:58:55.614230Z"
    }
   },
   "outputs": [
    {
     "name": "stdout",
     "output_type": "stream",
     "text": [
      "100\n",
      "720\n",
      "15\n"
     ]
    }
   ],
   "source": [
    "# reduce(lambda parameter1, parameter2: expression, iterable)\n",
    "# 1.將可疊代物件中的前兩個元素先進行Lambda運算式的運算。\n",
    "# 2.接著將第一個步驟的運算結果和可疊代物件中的下一個元素(第三個)傳入Lambda函式進行運算。\n",
    "# 3.依此類推，直到可疊代物件的元素都運算完成。\n",
    "from functools import reduce\n",
    "\n",
    "# version 1\n",
    "val=[1,1,2,92,20,19,31,100,14]\n",
    "red_1=reduce(lambda x,y: x if x>y else y, val)\n",
    "print(red_1) #output:100\n",
    "\n",
    "# version 2\n",
    "red_2=reduce(lambda i,j: i*j, range(1,7))\n",
    "print(red_2)\n",
    "\n",
    "# version 3\n",
    "total=reduce(lambda x,y : x+y, range(6))\n",
    "print(total) #output: 15\n",
    "             "
   ]
  },
  {
   "cell_type": "markdown",
   "metadata": {
    "ExecuteTime": {
     "end_time": "2021-08-20T08:59:08.518578Z",
     "start_time": "2021-08-20T08:59:08.505582Z"
    }
   },
   "source": [
    "# lambda with map"
   ]
  },
  {
   "cell_type": "code",
   "execution_count": 13,
   "metadata": {
    "ExecuteTime": {
     "end_time": "2021-08-20T09:02:51.164324Z",
     "start_time": "2021-08-20T09:02:51.153323Z"
    }
   },
   "outputs": [
    {
     "name": "stdout",
     "output_type": "stream",
     "text": [
      "[8, 11, 8, 20, 11, 5, 11]\n",
      "[6, 4, 7, 8, 7, 8, 6]\n"
     ]
    }
   ],
   "source": [
    "# map(lambda parameter: expression, iterable) (要有結果要加list)\n",
    "base=[2,3,2,6,3,1,3]\n",
    "w=[4,1,5,2,4,7,3]\n",
    "\n",
    "mapping_1=map(lambda x: 3*x+2, base)\n",
    "print(list(mapping_1)) \n",
    "#output:[8, 11, 8, 20, 11, 5, 11]\n",
    "\n",
    "mapping_2=map(lambda x,y: x+y, base, w)\n",
    "print(list(mapping_2)) \n",
    "#output:[6, 4, 7, 8, 7, 8, 6]"
   ]
  },
  {
   "cell_type": "markdown",
   "metadata": {
    "ExecuteTime": {
     "end_time": "2021-08-20T08:59:08.518578Z",
     "start_time": "2021-08-20T08:59:08.505582Z"
    }
   },
   "source": [
    "# lambda with sorted"
   ]
  },
  {
   "cell_type": "code",
   "execution_count": 23,
   "metadata": {
    "ExecuteTime": {
     "end_time": "2021-08-20T09:12:21.810629Z",
     "start_time": "2021-08-20T09:12:21.783628Z"
    }
   },
   "outputs": [
    {
     "name": "stdout",
     "output_type": "stream",
     "text": [
      "[['Joey', 'A', 15], ['Monica', 'B', 10], ['Rachel', 'B', 12], ['Ross', 'C', 8]]\n",
      "[['Ross', 'C', 8], ['Monica', 'B', 10], ['Rachel', 'B', 12], ['Joey', 'A', 15]]\n",
      "[2, 0, 1, 3, 4]\n"
     ]
    }
   ],
   "source": [
    "# sorted(iterable, key=lambda parameter: expression)\n",
    "students = [\n",
    "['Joey', 'A', 15],\n",
    "['Monica', 'B', 10],\n",
    "['Ross', 'C', 8],\n",
    "['Rachel', 'B', 12]\n",
    "]\n",
    "student_sort_1 = sorted(students)\n",
    "student_sort = sorted(students, key = lambda student : student[2])\n",
    "\n",
    "print(student_sort_1)\n",
    "#output:[[['Joey', 'A', 15], ['Monica', 'B', 10], ['Rachel', 'B', 12], ['Ross', 'C', 8]]\n",
    "print(student_sort)\n",
    "#output:[['Ross', 'C', 8], ['Monica', 'B', 10], ['Rachel', 'B', 12], ['Joey', 'A', 15]]\n",
    "\n",
    "# sorted index\n",
    "s = [2, 3, 1, 4, 9]\n",
    "sorted_s = sorted(range(len(s)), key = lambda k : s[k]) # 排序0~4依據list(s)\n",
    "print(sorted_s) #output:[2, 0, 1, 3, 4]\n",
    "\n",
    "# 意義：將s = [2, 3, 1, 4, 9]依序指定給0, 1, 2, 3, 4，即s[k]，而在sorting時就是利用s[k]的數值大小進行排列。\n",
    "# 例如，index=0是被指定數值為2，index=3是被指定數值為4，排序時就是看數值2,4...進行index的排序，\n",
    "# 或者可以想成index就是上面的學生，而數值為成績，用成績排進行排名"
   ]
  },
  {
   "cell_type": "code",
   "execution_count": 28,
   "metadata": {
    "ExecuteTime": {
     "end_time": "2021-08-20T09:23:35.742468Z",
     "start_time": "2021-08-20T09:23:35.714460Z"
    }
   },
   "outputs": [
    {
     "name": "stdout",
     "output_type": "stream",
     "text": [
      "[(0, 1), (1, 2), (2, 3), (4, 5), (3, 100)]\n"
     ]
    },
    {
     "data": {
      "text/plain": [
       "[0, 1, 2, 4, 3]"
      ]
     },
     "execution_count": 28,
     "metadata": {},
     "output_type": "execute_result"
    }
   ],
   "source": [
    "# 上面的範例延伸 (index)\n",
    "myList = [1, 2, 3, 100, 5]\n",
    "print([i for i in sorted(enumerate(myList), key=lambda x:x[1])])\n",
    "[i[0] for i in sorted(enumerate(myList), key=lambda x:x[1])]"
   ]
  },
  {
   "cell_type": "markdown",
   "metadata": {},
   "source": [
    "# Lambda函式 vs 一般函式(Function)\n",
    "## Lambda函式不需要定義名稱，而一般函式(Function)需定義名稱。\n",
    "## Lambda函式只能有一行運算式，而一般函式(Function)可以有多行運算式。\n",
    "## Lambda在每一次運算完會自動回傳結果，而一般函式(Function)如果要回傳結果要加上 return 關鍵字。"
   ]
  }
 ],
 "metadata": {
  "hide_input": false,
  "kernelspec": {
   "display_name": "Python 3",
   "language": "python",
   "name": "python3"
  },
  "language_info": {
   "codemirror_mode": {
    "name": "ipython",
    "version": 3
   },
   "file_extension": ".py",
   "mimetype": "text/x-python",
   "name": "python",
   "nbconvert_exporter": "python",
   "pygments_lexer": "ipython3",
   "version": "3.8.5"
  },
  "toc": {
   "base_numbering": 1,
   "nav_menu": {},
   "number_sections": true,
   "sideBar": true,
   "skip_h1_title": false,
   "title_cell": "Table of Contents",
   "title_sidebar": "Contents",
   "toc_cell": false,
   "toc_position": {},
   "toc_section_display": true,
   "toc_window_display": false
  },
  "varInspector": {
   "cols": {
    "lenName": 16,
    "lenType": 16,
    "lenVar": 40
   },
   "kernels_config": {
    "python": {
     "delete_cmd_postfix": "",
     "delete_cmd_prefix": "del ",
     "library": "var_list.py",
     "varRefreshCmd": "print(var_dic_list())"
    },
    "r": {
     "delete_cmd_postfix": ") ",
     "delete_cmd_prefix": "rm(",
     "library": "var_list.r",
     "varRefreshCmd": "cat(var_dic_list()) "
    }
   },
   "types_to_exclude": [
    "module",
    "function",
    "builtin_function_or_method",
    "instance",
    "_Feature"
   ],
   "window_display": false
  }
 },
 "nbformat": 4,
 "nbformat_minor": 4
}
